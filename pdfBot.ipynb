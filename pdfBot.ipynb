{
 "cells": [
  {
   "cell_type": "code",
   "execution_count": 34,
   "metadata": {},
   "outputs": [],
   "source": [
    "import openai\n",
    "import langchain\n",
    "import pinecone \n",
    "# from langchain_pinecone import Pinecone\n",
    "from langchain.document_loaders import PyPDFDirectoryLoader # for loading pdf\n",
    "from langchain.text_splitter import RecursiveCharacterTextSplitter  #to tokenize into chunks\n",
    "from  langchain.embeddings.openai import OpenAIEmbeddings # chunks to vectores\n",
    "from langchain.vectorstores import Pinecone\n",
    "from langchain.llms import OpenAI\n",
    "from langchain.chat_models import ChatOpenAI\n",
    "from langchain.chains.question_answering import load_qa_chain\n",
    "from langchain.embeddings import HuggingFaceEmbeddings\n",
    "from langchain.llms import LlamaCpp\n",
    "\n",
    "from dotenv import load_dotenv\n",
    "load_dotenv(override=True)\n",
    "import os\n"
   ]
  },
  {
   "cell_type": "code",
   "execution_count": 35,
   "metadata": {},
   "outputs": [
    {
     "name": "stdout",
     "output_type": "stream",
     "text": [
      "<langchain_community.document_loaders.pdf.PyPDFDirectoryLoader object at 0x17b991e20>\n",
      "len 58\n",
      "<class 'list'>\n"
     ]
    }
   ],
   "source": [
    "\n",
    "## Read document\n",
    "def read_doc(diretory):\n",
    "    file_loader = PyPDFDirectoryLoader(diretory)\n",
    "    print(file_loader)\n",
    "    documents= file_loader.load()\n",
    "    return documents\n",
    "\n",
    "docs=read_doc(\"documents/\")\n",
    "print('len',len(docs))\n",
    "print(type(docs))\n",
    "# for doc in docs:\n",
    "#     print(doc)\n"
   ]
  },
  {
   "cell_type": "code",
   "execution_count": 36,
   "metadata": {},
   "outputs": [],
   "source": [
    "\n",
    "## Divide the docs into chunks\n",
    "### https://api.python.langchain.com/en/latest/text_splitter/langchain.text_splitter.RecursiveCharacterTextSplitter.html#\n",
    "def chunk_data(docs,chunk_size,chunk_overlap):\n",
    "    text_splitter=RecursiveCharacterTextSplitter(chunk_size=chunk_size,chunk_overlap=chunk_overlap)\n",
    "    doc=text_splitter.split_documents(docs)\n",
    "    return doc \n",
    "\n",
    "chunkData = chunk_data(docs=docs, chunk_overlap=50, chunk_size=800)\n",
    "# chunkData\n"
   ]
  },
  {
   "cell_type": "code",
   "execution_count": 37,
   "metadata": {},
   "outputs": [
    {
     "name": "stdout",
     "output_type": "stream",
     "text": [
      "Type:  <class 'list'> Len: 141\n",
      "page_content=' Rationalisation  \n",
      " Others  \n",
      " Personal Income Tax  \n",
      "  \n",
      "Annexures 35 \n",
      " Annexure to Part B of the Budget Speech 2023-24 \n",
      "i. Amendments relating to Direct Taxes \n",
      "ii. Amendments relating to Indirect Taxes' metadata={'source': 'documents/budget_speech.pdf', 'page': 2, 'page_label': '3'}\n"
     ]
    }
   ],
   "source": [
    "\n",
    "print(\"Type: \",type(chunkData), \"Len:\", len(chunkData))\n",
    "print(chunkData[2])\n",
    "\n"
   ]
  },
  {
   "cell_type": "code",
   "execution_count": 38,
   "metadata": {},
   "outputs": [],
   "source": [
    "## Embedding Technique Of OPENAI\n",
    "embeddings=OpenAIEmbeddings(api_key=os.environ['OPENAI_API_KEY'])\n",
    "embeddings\n",
    "\n",
    "vectors=embeddings.embed_query(\"How are you?\")"
   ]
  },
  {
   "cell_type": "code",
   "execution_count": 39,
   "metadata": {},
   "outputs": [
    {
     "name": "stdout",
     "output_type": "stream",
     "text": [
      "<langchain_community.vectorstores.pinecone.Pinecone object at 0x16a1c7860>\n"
     ]
    }
   ],
   "source": [
    "\n",
    "#Connect to Pinecone\n",
    "#Connect to Pinecone\n",
    "pc = pinecone.Pinecone(api_key=os.environ['PINECONE_API_KEY'])  # Use environment variable\n",
    "# Connect to your index\n",
    "\n",
    "pinceConeIndex=Pinecone.from_documents(documents=chunkData , embedding=embeddings, index_name=\"langchain\")\n",
    "print(pinceConeIndex)"
   ]
  },
  {
   "cell_type": "code",
   "execution_count": 40,
   "metadata": {},
   "outputs": [],
   "source": [
    "\n",
    "# Initialize the LLM with your API key\n",
    "llm = ChatOpenAI(\n",
    "    model_name=\"gpt-3.5-turbo\",\n",
    "    temperature=0.5,\n",
    "    openai_api_key=os.environ.get(\"OPENAI_API_KEY\")\n",
    ")\n",
    "\n",
    "# Load the QA chain using the 'stuff' chain type\n",
    "chain = load_qa_chain(llm, chain_type=\"stuff\")\n",
    "# chain=load_qa_chain(llm,chain_type=\"stuff\")\n",
    "\n"
   ]
  },
  {
   "cell_type": "code",
   "execution_count": 41,
   "metadata": {},
   "outputs": [],
   "source": [
    "# Using Cosine similarity retrive mathcing results from vectorDB\n",
    "\n",
    "def retrive_query(query,k=2):\n",
    "    matching_results=pinceConeIndex.similarity_search(query,k=k)\n",
    "    return matching_results\n",
    "# Search Answers from Vector DB\n",
    "def retrieve_answers(query):\n",
    "    doc_search=retrive_query(query=query)\n",
    "    print(doc_search)\n",
    "    response=chain.run(input_documents=doc_search, question=query)\n",
    "    return response\n",
    "    \n"
   ]
  },
  {
   "cell_type": "code",
   "execution_count": 42,
   "metadata": {},
   "outputs": [
    {
     "name": "stdout",
     "output_type": "stream",
     "text": [
      "[Document(metadata={'page': 13.0, 'page_label': '14', 'source': 'documents/budget_speech.pdf'}, page_content='improved access to education, health and nutrition, road and telecom \\nconnectivity, and sustainable livelihood opportunities. An amount  \\nof ` 15,000 crore will be made available to implement the Mission in the \\nnext three years under the Development Action Plan for the Scheduled \\nTribes.  \\nEklavya Model Residential Schools \\n38. In the next three years, centre will recruit 38,800 teachers and \\nsupport staff for the 740 Eklavya Model Residential Schools, serving 3.5 lakh \\ntribal students. \\nWater for Drought Prone Region \\n39. In the drought prone central region of Karnataka, central assistance \\nof ` 5,300 crore will be given to Upper Bhadra Project to provide \\nsustainable micro irrigation and filling up of surface tanks for drinking \\nwater.  \\nPM Awas Yojana'), Document(metadata={'page': 13.0, 'page_label': '14', 'source': 'documents/budget_speech.pdf'}, page_content='improved access to education, health and nutrition, road and telecom \\nconnectivity, and sustainable livelihood opportunities. An amount  \\nof ` 15,000 crore will be made available to implement the Mission in the \\nnext three years under the Development Action Plan for the Scheduled \\nTribes.  \\nEklavya Model Residential Schools \\n38. In the next three years, centre will recruit 38,800 teachers and \\nsupport staff for the 740 Eklavya Model Residential Schools, serving 3.5 lakh \\ntribal students. \\nWater for Drought Prone Region \\n39. In the drought prone central region of Karnataka, central assistance \\nof ` 5,300 crore will be given to Upper Bhadra Project to provide \\nsustainable micro irrigation and filling up of surface tanks for drinking \\nwater.  \\nPM Awas Yojana')]\n",
      "In the coming budget, areas that are planned to be improved include access to education, health, and nutrition, as well as road and telecom connectivity. Additionally, there will be a focus on providing sustainable livelihood opportunities. The budget also includes plans for the implementation of the Eklavya Model Residential Schools, water projects for drought-prone regions like the Upper Bhadra Project in Karnataka, and the PM Awas Yojana for housing.\n"
     ]
    }
   ],
   "source": [
    "query=\"what areas are going to get improved in the coming budget\"\n",
    "print(retrieve_answers(query))"
   ]
  },
  {
   "cell_type": "code",
   "execution_count": null,
   "metadata": {},
   "outputs": [],
   "source": []
  }
 ],
 "metadata": {
  "kernelspec": {
   "display_name": "Python 3",
   "language": "python",
   "name": "python3"
  },
  "language_info": {
   "codemirror_mode": {
    "name": "ipython",
    "version": 3
   },
   "file_extension": ".py",
   "mimetype": "text/x-python",
   "name": "python",
   "nbconvert_exporter": "python",
   "pygments_lexer": "ipython3",
   "version": "3.12.7"
  }
 },
 "nbformat": 4,
 "nbformat_minor": 2
}
